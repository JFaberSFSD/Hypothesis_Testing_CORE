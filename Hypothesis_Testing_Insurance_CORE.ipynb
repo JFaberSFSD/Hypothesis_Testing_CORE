{
 "cells": [
  {
   "cell_type": "code",
   "execution_count": 2,
   "id": "1412d919",
   "metadata": {},
   "outputs": [],
   "source": [
    "import pandas as pd\n",
    "import numpy as np\n",
    "import scipy.stats as stats\n",
    "import matplotlib.pyplot as plt\n",
    "import seaborn as sns\n",
    "from statsmodels.stats.multicomp import pairwise_tukeyhsd"
   ]
  },
  {
   "cell_type": "code",
   "execution_count": 3,
   "id": "19169bea",
   "metadata": {},
   "outputs": [
    {
     "data": {
      "text/html": [
       "<div>\n",
       "<style scoped>\n",
       "    .dataframe tbody tr th:only-of-type {\n",
       "        vertical-align: middle;\n",
       "    }\n",
       "\n",
       "    .dataframe tbody tr th {\n",
       "        vertical-align: top;\n",
       "    }\n",
       "\n",
       "    .dataframe thead th {\n",
       "        text-align: right;\n",
       "    }\n",
       "</style>\n",
       "<table border=\"1\" class=\"dataframe\">\n",
       "  <thead>\n",
       "    <tr style=\"text-align: right;\">\n",
       "      <th></th>\n",
       "      <th>age</th>\n",
       "      <th>sex</th>\n",
       "      <th>bmi</th>\n",
       "      <th>children</th>\n",
       "      <th>smoker</th>\n",
       "      <th>region</th>\n",
       "      <th>charges</th>\n",
       "    </tr>\n",
       "  </thead>\n",
       "  <tbody>\n",
       "    <tr>\n",
       "      <th>0</th>\n",
       "      <td>19</td>\n",
       "      <td>female</td>\n",
       "      <td>27.900</td>\n",
       "      <td>0</td>\n",
       "      <td>yes</td>\n",
       "      <td>southwest</td>\n",
       "      <td>16884.92400</td>\n",
       "    </tr>\n",
       "    <tr>\n",
       "      <th>1</th>\n",
       "      <td>18</td>\n",
       "      <td>male</td>\n",
       "      <td>33.770</td>\n",
       "      <td>1</td>\n",
       "      <td>no</td>\n",
       "      <td>southeast</td>\n",
       "      <td>1725.55230</td>\n",
       "    </tr>\n",
       "    <tr>\n",
       "      <th>2</th>\n",
       "      <td>28</td>\n",
       "      <td>male</td>\n",
       "      <td>33.000</td>\n",
       "      <td>3</td>\n",
       "      <td>no</td>\n",
       "      <td>southeast</td>\n",
       "      <td>4449.46200</td>\n",
       "    </tr>\n",
       "    <tr>\n",
       "      <th>3</th>\n",
       "      <td>33</td>\n",
       "      <td>male</td>\n",
       "      <td>22.705</td>\n",
       "      <td>0</td>\n",
       "      <td>no</td>\n",
       "      <td>northwest</td>\n",
       "      <td>21984.47061</td>\n",
       "    </tr>\n",
       "    <tr>\n",
       "      <th>4</th>\n",
       "      <td>32</td>\n",
       "      <td>male</td>\n",
       "      <td>28.880</td>\n",
       "      <td>0</td>\n",
       "      <td>no</td>\n",
       "      <td>northwest</td>\n",
       "      <td>3866.85520</td>\n",
       "    </tr>\n",
       "  </tbody>\n",
       "</table>\n",
       "</div>"
      ],
      "text/plain": [
       "   age     sex     bmi  children smoker     region      charges\n",
       "0   19  female  27.900         0    yes  southwest  16884.92400\n",
       "1   18    male  33.770         1     no  southeast   1725.55230\n",
       "2   28    male  33.000         3     no  southeast   4449.46200\n",
       "3   33    male  22.705         0     no  northwest  21984.47061\n",
       "4   32    male  28.880         0     no  northwest   3866.85520"
      ]
     },
     "execution_count": 3,
     "metadata": {},
     "output_type": "execute_result"
    }
   ],
   "source": [
    "df = pd.read_csv('Data/Insurance.csv')\n",
    "\n",
    "df.head()"
   ]
  },
  {
   "cell_type": "code",
   "execution_count": 4,
   "id": "af4152f4",
   "metadata": {},
   "outputs": [
    {
     "name": "stdout",
     "output_type": "stream",
     "text": [
      "1\n",
      "0\n"
     ]
    }
   ],
   "source": [
    "#Quick check of duplicates or missing values\n",
    "\n",
    "print(df.duplicated().sum())\n",
    "print(df.isna().sum().sum())"
   ]
  },
  {
   "cell_type": "code",
   "execution_count": 5,
   "id": "bd68e096",
   "metadata": {},
   "outputs": [
    {
     "data": {
      "text/plain": [
       "0"
      ]
     },
     "execution_count": 5,
     "metadata": {},
     "output_type": "execute_result"
    }
   ],
   "source": [
    "#Drop our one duplicate row\n",
    "\n",
    "df = df.drop_duplicates()\n",
    "\n",
    "df.duplicated().sum()"
   ]
  },
  {
   "cell_type": "markdown",
   "id": "800791f4",
   "metadata": {},
   "source": [
    "# Q1 - Do smokers have higher insurance charges than non-smokers?"
   ]
  },
  {
   "cell_type": "markdown",
   "id": "b3c80795",
   "metadata": {},
   "source": [
    "### Null hypothesis: There is no statistical difference in charges between smokers and non-smokers\n",
    "\n",
    "### Alternate hypothesis: There is a statistical difference in charges between smokers and non-smokers\n",
    "\n",
    "### Alpha will be .05\n",
    "\n",
    "### Since we are dealing with a single variable (charges) between two groups we can do a T-Test"
   ]
  },
  {
   "cell_type": "code",
   "execution_count": 6,
   "id": "010448ad",
   "metadata": {},
   "outputs": [
    {
     "data": {
      "text/plain": [
       "male      675\n",
       "female    662\n",
       "Name: sex, dtype: int64"
      ]
     },
     "execution_count": 6,
     "metadata": {},
     "output_type": "execute_result"
    }
   ],
   "source": [
    "#Let's check the balance between males and females in our dataframe\n",
    "\n",
    "df['sex'].value_counts()"
   ]
  },
  {
   "cell_type": "code",
   "execution_count": 7,
   "id": "8f68d0e0",
   "metadata": {},
   "outputs": [],
   "source": [
    "#Very balanced. Let's create two new dataframes of male and female charges\n",
    "\n",
    "male_df = df.loc[df['sex']==\"male\"].copy()\n",
    "female_df = df.loc[df['sex']=='female'].copy()\n",
    "\n",
    "male_charges = male_df['charges']\n",
    "female_charges = female_df['charges']"
   ]
  },
  {
   "cell_type": "code",
   "execution_count": 13,
   "id": "6908a415",
   "metadata": {},
   "outputs": [
    {
     "data": {
      "image/png": "[encoded data removed]",
      "text/plain": [
       "<Figure size 1000x500 with 2 Axes>"
      ]
     },
     "metadata": {},
     "output_type": "display_data"
    }
   ],
   "source": [
    "#Let's visualize our data before we perform our test  ##Code is modified version from Learn Platform\n",
    "\n",
    "gender_palette={'male':'dodgerblue', 'female':'salmon'}\n",
    "fig, (ax,ax_bar) = plt.subplots(figsize= (10,5), ncols=2, \n",
    "                                constrained_layout=True,\n",
    "                                gridspec_kw={'width_ratios':[0.8,0.2]})\n",
    "\n",
    "\n",
    "# Histogram\n",
    "ax = sns.histplot(data=df, x='charges',fill=True,hue='sex',kde=True,\n",
    "                  stat='density',common_norm=False,ax=ax,\n",
    "                  palette=gender_palette)\n",
    "\n",
    "ax.axvline(np.mean(male_charges), ls='--',lw=3, \n",
    "           label=f\"Males (Mean={np.mean(male_charges):.2f})\",color=gender_palette['male'])\n",
    "\n",
    "ax.axvline(np.mean(female_charges), ls='--', lw=3, \n",
    "           label=f\"Females (Mean={np.mean(female_charges):.2f})\",color=gender_palette['female'])\n",
    "\n",
    "ax.legend(prop={\"size\":14}, loc='upper right')#bbox_to_anchor=[1,1])\n",
    "## Barplot\n",
    "sns.barplot(data=df, x='sex',y='charges',ax = ax_bar,palette=gender_palette)\n",
    "fig.suptitle('Comparison of Charges by Gender',fontsize='xx-large');"
   ]
  },
  {
   "cell_type": "markdown",
   "id": "6ac4ed6b",
   "metadata": {},
   "source": [
    "### Before we can run our T-Test, we need to verify a few things about our data\n",
    "\n",
    "### Verification 1 - No significant outliers"
   ]
  },
  {
   "cell_type": "code",
   "execution_count": 14,
   "id": "bdb94b18",
   "metadata": {},
   "outputs": [
    {
     "data": {
      "text/plain": [
       "2"
      ]
     },
     "execution_count": 14,
     "metadata": {},
     "output_type": "execute_result"
    }
   ],
   "source": [
    "#Check males for outliers using z_score\n",
    "\n",
    "male_zscores = stats.zscore(male_charges)\n",
    "male_outliers = abs(male_zscores)>3\n",
    "np.sum(male_outliers)"
   ]
  },
  {
   "cell_type": "code",
   "execution_count": 15,
   "id": "d0a6db59",
   "metadata": {},
   "outputs": [],
   "source": [
    "#we have two outliers for males, let's remove them\n",
    "\n",
    "male_charges = male_charges[(np.abs(stats.zscore(male_charges))<3)]"
   ]
  },
  {
   "cell_type": "code",
   "execution_count": 16,
   "id": "37478fa5",
   "metadata": {},
   "outputs": [
    {
     "data": {
      "text/plain": [
       "14"
      ]
     },
     "execution_count": 16,
     "metadata": {},
     "output_type": "execute_result"
    }
   ],
   "source": [
    "#Check females for outliers\n",
    "\n",
    "female_zscores = stats.zscore(female_charges)\n",
    "female_outliers = abs(female_zscores)>3\n",
    "np.sum(female_outliers)"
   ]
  },
  {
   "cell_type": "code",
   "execution_count": 17,
   "id": "97ca7f7a",
   "metadata": {},
   "outputs": [],
   "source": [
    "#Remove female outliers\n",
    "\n",
    "female_charges = female_charges[(np.abs(stats.zscore(female_charges))<3)]"
   ]
  },
  {
   "cell_type": "markdown",
   "id": "9e738e5d",
   "metadata": {},
   "source": [
    "### Verification 2 - Check for normality"
   ]
  },
  {
   "cell_type": "code",
   "execution_count": 18,
   "id": "a3d6b865",
   "metadata": {},
   "outputs": [
    {
     "data": {
      "text/plain": [
       "NormaltestResult(statistic=125.6448718346262, pvalue=5.20670223236575e-28)"
      ]
     },
     "execution_count": 18,
     "metadata": {},
     "output_type": "execute_result"
    }
   ],
   "source": [
    "#Check males for normality\n",
    "\n",
    "males_normality = stats.normaltest(male_charges)\n",
    "males_normality"
   ]
  },
  {
   "cell_type": "code",
   "execution_count": 20,
   "id": "3fa637d6",
   "metadata": {},
   "outputs": [
    {
     "data": {
      "text/plain": [
       "NormaltestResult(statistic=183.78486023459502, pvalue=1.234879756848696e-40)"
      ]
     },
     "execution_count": 20,
     "metadata": {},
     "output_type": "execute_result"
    }
   ],
   "source": [
    "#Check females for normality\n",
    "\n",
    "females_normality = stats.normaltest(female_charges)\n",
    "females_normality"
   ]
  },
  {
   "cell_type": "markdown",
   "id": "308cc8aa",
   "metadata": {},
   "source": [
    "### Both of our groups had p-values well below .05, which means both are NOT normally distributed. Our sample sizes for both groups are 600+ though, so we can continue with our T-Test"
   ]
  },
  {
   "cell_type": "markdown",
   "id": "a5b95a41",
   "metadata": {},
   "source": [
    "### Verification 3 - Check for equal variance"
   ]
  },
  {
   "cell_type": "code",
   "execution_count": 21,
   "id": "ac307b49",
   "metadata": {},
   "outputs": [
    {
     "data": {
      "text/plain": [
       "LeveneResult(statistic=21.05823462931232, pvalue=4.879548376431153e-06)"
      ]
     },
     "execution_count": 21,
     "metadata": {},
     "output_type": "execute_result"
    }
   ],
   "source": [
    "variance_test = stats.levene(male_charges, female_charges)\n",
    "variance_test"
   ]
  },
  {
   "cell_type": "markdown",
   "id": "cb8adcfe",
   "metadata": {},
   "source": [
    "### With a p-value of under .05, we can conclude that our two samples do NOT have equal variance. This won't stop us from conducting our test, but we will need to set our equal_var to False when running it"
   ]
  },
  {
   "cell_type": "markdown",
   "id": "bf8a2ed1",
   "metadata": {},
   "source": [
    "### Now we can run our test!"
   ]
  },
  {
   "cell_type": "code",
   "execution_count": 22,
   "id": "5b05f121",
   "metadata": {},
   "outputs": [
    {
     "data": {
      "text/plain": [
       "Ttest_indResult(statistic=3.3291497387660622, pvalue=0.0008963785563638305)"
      ]
     },
     "execution_count": 22,
     "metadata": {},
     "output_type": "execute_result"
    }
   ],
   "source": [
    "t_test = stats.ttest_ind(male_charges, female_charges, equal_var = False)\n",
    "t_test"
   ]
  },
  {
   "cell_type": "markdown",
   "id": "5593f56b",
   "metadata": {},
   "source": [
    "## RESULTS: With a p-value of well under .05, we can reject our null hypothesis and accept that there is clearly a statistically significant difference between male and female charges!"
   ]
  },
  {
   "cell_type": "markdown",
   "id": "c1ece7dd",
   "metadata": {},
   "source": [
    "# Q2 - Are men more likely to smoke than women?"
   ]
  },
  {
   "cell_type": "markdown",
   "id": "83268e4b",
   "metadata": {},
   "source": [
    "### Null hypothesis: There is no statistical difference in the chances of being a smoker between men and women\n",
    "\n",
    "### Alternate hypothesis: There is a statistical difference in the chances of being a smoker between men and women\n",
    "\n",
    "### Alpha will once again be .05\n",
    "\n",
    "### Since we are dealing with categorical data and its relationship to a binary target, we will use Chi-Squared"
   ]
  },
  {
   "cell_type": "code",
   "execution_count": 30,
   "id": "2da4f1e2",
   "metadata": {},
   "outputs": [
    {
     "data": {
      "image/png": "[encoded data removed]",
      "text/plain": [
       "<Figure size 640x480 with 1 Axes>"
      ]
     },
     "metadata": {},
     "output_type": "display_data"
    }
   ],
   "source": [
    "#Let's visualize our data to get an idea of what we're working with\n",
    "\n",
    "ax = sns.countplot(data=df, x='sex', hue='smoker')\n",
    "ax.set_title(\"Number of Smokers by Sex\")\n",
    "plt.show()"
   ]
  },
  {
   "cell_type": "code",
   "execution_count": 25,
   "id": "e8ef1ff3",
   "metadata": {},
   "outputs": [
    {
     "data": {
      "text/html": [
       "<div>\n",
       "<style scoped>\n",
       "    .dataframe tbody tr th:only-of-type {\n",
       "        vertical-align: middle;\n",
       "    }\n",
       "\n",
       "    .dataframe tbody tr th {\n",
       "        vertical-align: top;\n",
       "    }\n",
       "\n",
       "    .dataframe thead th {\n",
       "        text-align: right;\n",
       "    }\n",
       "</style>\n",
       "<table border=\"1\" class=\"dataframe\">\n",
       "  <thead>\n",
       "    <tr style=\"text-align: right;\">\n",
       "      <th>smoker</th>\n",
       "      <th>no</th>\n",
       "      <th>yes</th>\n",
       "    </tr>\n",
       "    <tr>\n",
       "      <th>sex</th>\n",
       "      <th></th>\n",
       "      <th></th>\n",
       "    </tr>\n",
       "  </thead>\n",
       "  <tbody>\n",
       "    <tr>\n",
       "      <th>female</th>\n",
       "      <td>547</td>\n",
       "      <td>115</td>\n",
       "    </tr>\n",
       "    <tr>\n",
       "      <th>male</th>\n",
       "      <td>516</td>\n",
       "      <td>159</td>\n",
       "    </tr>\n",
       "  </tbody>\n",
       "</table>\n",
       "</div>"
      ],
      "text/plain": [
       "smoker   no  yes\n",
       "sex             \n",
       "female  547  115\n",
       "male    516  159"
      ]
     },
     "execution_count": 25,
     "metadata": {},
     "output_type": "execute_result"
    }
   ],
   "source": [
    "#Create our contingency table\n",
    "\n",
    "table = pd.crosstab(df['sex'],df['smoker'])\n",
    "table"
   ]
  },
  {
   "cell_type": "code",
   "execution_count": 26,
   "id": "4f2d41f5",
   "metadata": {},
   "outputs": [
    {
     "name": "stdout",
     "output_type": "stream",
     "text": [
      "0.0062765550120107375\n"
     ]
    },
    {
     "data": {
      "text/plain": [
       "True"
      ]
     },
     "execution_count": 26,
     "metadata": {},
     "output_type": "execute_result"
    }
   ],
   "source": [
    "#Now we can run the test and save our results into variables\n",
    "\n",
    "chi_squared = stats.chi2_contingency(table)\n",
    "\n",
    "chi2, p, deg_free, expected_vals = chi_squared\n",
    "\n",
    "print(p)\n",
    "p<.05"
   ]
  },
  {
   "cell_type": "markdown",
   "id": "44e4190c",
   "metadata": {},
   "source": [
    "## RESULTS: With a p-value of under .05, we can reject our null hypothesis and accept that there is indeed a statistically significant difference between the liklihood of being a smoker between males and females (with males being more likely)"
   ]
  },
  {
   "cell_type": "markdown",
   "id": "8541dc9e",
   "metadata": {},
   "source": [
    "# Q2 - Do different regions have different charges, on average?"
   ]
  },
  {
   "cell_type": "markdown",
   "id": "21f73aaa",
   "metadata": {},
   "source": [
    "### Null hypothesis: There is no statistical difference in the average charges between regions\n",
    "\n",
    "### Alternate hypothesis: There is a statistical difference in the average charges between different regions\n",
    "\n",
    "### Alpha will once again be .05\n",
    "\n",
    "### Since we are dealing with numerical data across many groups, we will use ANOVA & Tukey"
   ]
  },
  {
   "cell_type": "code",
   "execution_count": 27,
   "id": "d5393c1d",
   "metadata": {},
   "outputs": [
    {
     "data": {
      "text/plain": [
       "southeast    364\n",
       "southwest    325\n",
       "northwest    324\n",
       "northeast    324\n",
       "Name: region, dtype: int64"
      ]
     },
     "execution_count": 27,
     "metadata": {},
     "output_type": "execute_result"
    }
   ],
   "source": [
    "#Let's see how many regions we're truly dealing with and how balanced they are\n",
    "\n",
    "df['region'].value_counts()"
   ]
  },
  {
   "cell_type": "code",
   "execution_count": 29,
   "id": "b82d5ff1",
   "metadata": {},
   "outputs": [
    {
     "data": {
      "image/png": "[encoded data removed]",
      "text/plain": [
       "<Figure size 640x480 with 1 Axes>"
      ]
     },
     "metadata": {},
     "output_type": "display_data"
    }
   ],
   "source": [
    "#Let's visualize our averages to see if anything stands out right away\n",
    "\n",
    "sns.barplot(data=df, x='region', y='charges')\n",
    "plt.show()"
   ]
  },
  {
   "cell_type": "markdown",
   "id": "18e7a16c",
   "metadata": {},
   "source": [
    "### Before we can run our ANOVA, we will once again need to verify a few things about our data\n",
    "\n",
    "### Before we start that process, let's separate out our groups into a dictionary"
   ]
  },
  {
   "cell_type": "code",
   "execution_count": 31,
   "id": "6c959855",
   "metadata": {},
   "outputs": [
    {
     "data": {
      "text/plain": [
       "dict_keys(['southwest', 'southeast', 'northwest', 'northeast'])"
      ]
     },
     "execution_count": 31,
     "metadata": {},
     "output_type": "execute_result"
    }
   ],
   "source": [
    "groups = {}\n",
    "\n",
    "for i in df['region'].unique():\n",
    "    data = df.loc[df['region']==i, 'charges'].copy()\n",
    "    groups[i] = data\n",
    "    \n",
    "groups.keys()"
   ]
  },
  {
   "cell_type": "markdown",
   "id": "7be16b16",
   "metadata": {},
   "source": [
    "## Now let's test for normality\n"
   ]
  },
  {
   "cell_type": "code",
   "execution_count": 33,
   "id": "81780598",
   "metadata": {},
   "outputs": [
    {
     "data": {
      "text/html": [
       "<div>\n",
       "<style scoped>\n",
       "    .dataframe tbody tr th:only-of-type {\n",
       "        vertical-align: middle;\n",
       "    }\n",
       "\n",
       "    .dataframe tbody tr th {\n",
       "        vertical-align: top;\n",
       "    }\n",
       "\n",
       "    .dataframe thead th {\n",
       "        text-align: right;\n",
       "    }\n",
       "</style>\n",
       "<table border=\"1\" class=\"dataframe\">\n",
       "  <thead>\n",
       "    <tr style=\"text-align: right;\">\n",
       "      <th></th>\n",
       "      <th>n</th>\n",
       "      <th>p</th>\n",
       "      <th>test stat</th>\n",
       "    </tr>\n",
       "  </thead>\n",
       "  <tbody>\n",
       "    <tr>\n",
       "      <th>southwest</th>\n",
       "      <td>325.0</td>\n",
       "      <td>6.125298e-23</td>\n",
       "      <td>102.294059</td>\n",
       "    </tr>\n",
       "    <tr>\n",
       "      <th>southeast</th>\n",
       "      <td>364.0</td>\n",
       "      <td>4.953297e-15</td>\n",
       "      <td>65.877446</td>\n",
       "    </tr>\n",
       "    <tr>\n",
       "      <th>northwest</th>\n",
       "      <td>324.0</td>\n",
       "      <td>6.502634e-24</td>\n",
       "      <td>106.779670</td>\n",
       "    </tr>\n",
       "    <tr>\n",
       "      <th>northeast</th>\n",
       "      <td>324.0</td>\n",
       "      <td>1.455431e-19</td>\n",
       "      <td>86.747629</td>\n",
       "    </tr>\n",
       "  </tbody>\n",
       "</table>\n",
       "</div>"
      ],
      "text/plain": [
       "               n             p   test stat\n",
       "southwest  325.0  6.125298e-23  102.294059\n",
       "southeast  364.0  4.953297e-15   65.877446\n",
       "northwest  324.0  6.502634e-24  106.779670\n",
       "northeast  324.0  1.455431e-19   86.747629"
      ]
     },
     "execution_count": 33,
     "metadata": {},
     "output_type": "execute_result"
    }
   ],
   "source": [
    "normality = {}\n",
    "\n",
    "for i, data in groups.items():\n",
    "    stat, p = stats.normaltest(data)\n",
    "    normality[i] = {'n':len(data), 'p':p, 'test stat':stat}\n",
    "    \n",
    "normality_df = pd.DataFrame(normality).T\n",
    "normality_df"
   ]
  },
  {
   "cell_type": "markdown",
   "id": "8e239175",
   "metadata": {},
   "source": [
    "### With every single group having a p-value below .05, we can conclude that NONE of our groups have a normal distribution. But with high sample sizes in all groups, we can continue with our test"
   ]
  },
  {
   "cell_type": "markdown",
   "id": "c03e79ea",
   "metadata": {},
   "source": [
    "## Now let's test for equal variance "
   ]
  },
  {
   "cell_type": "code",
   "execution_count": 34,
   "id": "c2a1a2d4",
   "metadata": {},
   "outputs": [
    {
     "data": {
      "text/plain": [
       "LeveneResult(statistic=5.553479860699911, pvalue=0.0008689544824002284)"
      ]
     },
     "execution_count": 34,
     "metadata": {},
     "output_type": "execute_result"
    }
   ],
   "source": [
    "stats.levene(*groups.values())"
   ]
  },
  {
   "cell_type": "markdown",
   "id": "860ca6d6",
   "metadata": {},
   "source": [
    "### With a p-value below .05, we also do NOT have equal variance in our groups. This does not stop us from continuing, but we will need to shift gears to a Kruskal-Wallis function instead"
   ]
  },
  {
   "cell_type": "code",
   "execution_count": 37,
   "id": "b65010a0",
   "metadata": {},
   "outputs": [
    {
     "data": {
      "text/plain": [
       "KruskalResult(statistic=4.622506584464645, pvalue=0.20161983372311595)"
      ]
     },
     "execution_count": 37,
     "metadata": {},
     "output_type": "execute_result"
    }
   ],
   "source": [
    "#Let's run our final test!\n",
    "\n",
    "anova = stats.kruskal(*groups.values())\n",
    "anova"
   ]
  },
  {
   "cell_type": "markdown",
   "id": "c9ba536a",
   "metadata": {},
   "source": [
    "## RESULTS: With a p-value of over .05, we must reject our alternate hypothesis and will conclude that there is NOT a statistically significant difference between the charges within different regions"
   ]
  },
  {
   "cell_type": "code",
   "execution_count": null,
   "id": "68329554",
   "metadata": {},
   "outputs": [],
   "source": []
  },
  {
   "cell_type": "code",
   "execution_count": null,
   "id": "f359bf6d",
   "metadata": {},
   "outputs": [],
   "source": []
  }
 ],
 "metadata": {
  "kernelspec": {
   "display_name": "Python (dojo-env)",
   "language": "python",
   "name": "dojo-env"
  },
  "language_info": {
   "codemirror_mode": {
    "name": "ipython",
    "version": 3
   },
   "file_extension": ".py",
   "mimetype": "text/x-python",
   "name": "python",
   "nbconvert_exporter": "python",
   "pygments_lexer": "ipython3",
   "version": "3.8.13"
  },
  "toc": {
   "base_numbering": 1,
   "nav_menu": {},
   "number_sections": false,
   "sideBar": true,
   "skip_h1_title": false,
   "title_cell": "Table of Contents",
   "title_sidebar": "Contents",
   "toc_cell": false,
   "toc_position": {},
   "toc_section_display": true,
   "toc_window_display": false
  }
 },
 "nbformat": 4,
 "nbformat_minor": 5
}
